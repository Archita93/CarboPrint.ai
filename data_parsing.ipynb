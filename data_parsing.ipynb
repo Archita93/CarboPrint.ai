{
 "cells": [
  {
   "cell_type": "code",
   "execution_count": 80,
   "id": "ae7fb739",
   "metadata": {},
   "outputs": [],
   "source": [
    "import pandas as pd"
   ]
  },
  {
   "cell_type": "code",
   "execution_count": 81,
   "id": "dd6c1aba",
   "metadata": {},
   "outputs": [],
   "source": [
    "gpus_dataset = pd.read_csv(\"gpus.csv\")"
   ]
  },
  {
   "cell_type": "code",
   "execution_count": 82,
   "id": "7cffa4dc",
   "metadata": {},
   "outputs": [
    {
     "data": {
      "text/html": [
       "<div>\n",
       "<style scoped>\n",
       "    .dataframe tbody tr th:only-of-type {\n",
       "        vertical-align: middle;\n",
       "    }\n",
       "\n",
       "    .dataframe tbody tr th {\n",
       "        vertical-align: top;\n",
       "    }\n",
       "\n",
       "    .dataframe thead th {\n",
       "        text-align: right;\n",
       "    }\n",
       "</style>\n",
       "<table border=\"1\" class=\"dataframe\">\n",
       "  <thead>\n",
       "    <tr style=\"text-align: right;\">\n",
       "      <th></th>\n",
       "      <th>name</th>\n",
       "      <th>type</th>\n",
       "      <th>tdp_watts</th>\n",
       "      <th>TFLOPS32</th>\n",
       "      <th>TFLOPS16</th>\n",
       "      <th>GFLOPS32/W</th>\n",
       "      <th>GFLOPS16/W</th>\n",
       "      <th>memory</th>\n",
       "      <th>source</th>\n",
       "    </tr>\n",
       "  </thead>\n",
       "  <tbody>\n",
       "    <tr>\n",
       "      <th>0</th>\n",
       "      <td>A100 PCIe 40/80GB</td>\n",
       "      <td>gpu</td>\n",
       "      <td>250</td>\n",
       "      <td>NaN</td>\n",
       "      <td>312.00</td>\n",
       "      <td>NaN</td>\n",
       "      <td>NaN</td>\n",
       "      <td>40.0</td>\n",
       "      <td>https://www.nvidia.com/content/dam/en-zz/Solut...</td>\n",
       "    </tr>\n",
       "    <tr>\n",
       "      <th>1</th>\n",
       "      <td>A100 SXM4 80 GB</td>\n",
       "      <td>gpu</td>\n",
       "      <td>400</td>\n",
       "      <td>NaN</td>\n",
       "      <td>312.00</td>\n",
       "      <td>NaN</td>\n",
       "      <td>NaN</td>\n",
       "      <td>80.0</td>\n",
       "      <td>https://www.nvidia.com/content/dam/en-zz/Solut...</td>\n",
       "    </tr>\n",
       "    <tr>\n",
       "      <th>2</th>\n",
       "      <td>AGX Xavier</td>\n",
       "      <td>gpu</td>\n",
       "      <td>30</td>\n",
       "      <td>16.00</td>\n",
       "      <td>32.00</td>\n",
       "      <td>533.33</td>\n",
       "      <td>1066.67</td>\n",
       "      <td>NaN</td>\n",
       "      <td>https://elinux.org/Jetson_AGX_Xavier</td>\n",
       "    </tr>\n",
       "    <tr>\n",
       "      <th>3</th>\n",
       "      <td>AMD RX480</td>\n",
       "      <td>gpu</td>\n",
       "      <td>150</td>\n",
       "      <td>5.80</td>\n",
       "      <td>5.80</td>\n",
       "      <td>38.67</td>\n",
       "      <td>38.67</td>\n",
       "      <td>8.0</td>\n",
       "      <td>techpowerup.com</td>\n",
       "    </tr>\n",
       "    <tr>\n",
       "      <th>4</th>\n",
       "      <td>GTX 1080 Ti</td>\n",
       "      <td>gpu</td>\n",
       "      <td>250</td>\n",
       "      <td>11.34</td>\n",
       "      <td>0.17</td>\n",
       "      <td>45.36</td>\n",
       "      <td>0.68</td>\n",
       "      <td>11.0</td>\n",
       "      <td>techpowerup.com</td>\n",
       "    </tr>\n",
       "  </tbody>\n",
       "</table>\n",
       "</div>"
      ],
      "text/plain": [
       "                name type  tdp_watts  TFLOPS32   TFLOPS16  GFLOPS32/W  \\\n",
       "0  A100 PCIe 40/80GB  gpu        250       NaN     312.00         NaN   \n",
       "1    A100 SXM4 80 GB  gpu        400       NaN     312.00         NaN   \n",
       "2         AGX Xavier  gpu         30     16.00      32.00      533.33   \n",
       "3          AMD RX480  gpu        150      5.80       5.80       38.67   \n",
       "4        GTX 1080 Ti  gpu        250     11.34       0.17       45.36   \n",
       "\n",
       "  GFLOPS16/W  memory                                             source  \n",
       "0        NaN    40.0  https://www.nvidia.com/content/dam/en-zz/Solut...  \n",
       "1        NaN    80.0  https://www.nvidia.com/content/dam/en-zz/Solut...  \n",
       "2    1066.67     NaN               https://elinux.org/Jetson_AGX_Xavier  \n",
       "3      38.67     8.0                                    techpowerup.com  \n",
       "4       0.68    11.0                                    techpowerup.com  "
      ]
     },
     "execution_count": 82,
     "metadata": {},
     "output_type": "execute_result"
    }
   ],
   "source": [
    "gpus_dataset.head()"
   ]
  },
  {
   "cell_type": "code",
   "execution_count": 83,
   "id": "2852357a",
   "metadata": {},
   "outputs": [
    {
     "data": {
      "text/html": [
       "<div>\n",
       "<style scoped>\n",
       "    .dataframe tbody tr th:only-of-type {\n",
       "        vertical-align: middle;\n",
       "    }\n",
       "\n",
       "    .dataframe tbody tr th {\n",
       "        vertical-align: top;\n",
       "    }\n",
       "\n",
       "    .dataframe thead th {\n",
       "        text-align: right;\n",
       "    }\n",
       "</style>\n",
       "<table border=\"1\" class=\"dataframe\">\n",
       "  <thead>\n",
       "    <tr style=\"text-align: right;\">\n",
       "      <th></th>\n",
       "      <th>name</th>\n",
       "      <th>type</th>\n",
       "      <th>tdp_watts</th>\n",
       "    </tr>\n",
       "  </thead>\n",
       "  <tbody>\n",
       "    <tr>\n",
       "      <th>0</th>\n",
       "      <td>A100 PCIe 40/80GB</td>\n",
       "      <td>gpu</td>\n",
       "      <td>250</td>\n",
       "    </tr>\n",
       "    <tr>\n",
       "      <th>1</th>\n",
       "      <td>A100 SXM4 80 GB</td>\n",
       "      <td>gpu</td>\n",
       "      <td>400</td>\n",
       "    </tr>\n",
       "    <tr>\n",
       "      <th>2</th>\n",
       "      <td>AGX Xavier</td>\n",
       "      <td>gpu</td>\n",
       "      <td>30</td>\n",
       "    </tr>\n",
       "    <tr>\n",
       "      <th>3</th>\n",
       "      <td>AMD RX480</td>\n",
       "      <td>gpu</td>\n",
       "      <td>150</td>\n",
       "    </tr>\n",
       "    <tr>\n",
       "      <th>4</th>\n",
       "      <td>GTX 1080 Ti</td>\n",
       "      <td>gpu</td>\n",
       "      <td>250</td>\n",
       "    </tr>\n",
       "  </tbody>\n",
       "</table>\n",
       "</div>"
      ],
      "text/plain": [
       "                name type  tdp_watts\n",
       "0  A100 PCIe 40/80GB  gpu        250\n",
       "1    A100 SXM4 80 GB  gpu        400\n",
       "2         AGX Xavier  gpu         30\n",
       "3          AMD RX480  gpu        150\n",
       "4        GTX 1080 Ti  gpu        250"
      ]
     },
     "execution_count": 83,
     "metadata": {},
     "output_type": "execute_result"
    }
   ],
   "source": [
    "gpus_dataset = gpus_dataset[[\"name\",\"type\",\"tdp_watts\"]]\n",
    "gpus_dataset.head()"
   ]
  },
  {
   "cell_type": "code",
   "execution_count": 84,
   "id": "11724c5a",
   "metadata": {},
   "outputs": [],
   "source": [
    "gamma_dataset = pd.read_csv(\"gamma.csv\")\n",
    "gamma_datasets = gamma_dataset.drop('Country code', axis=1)"
   ]
  },
  {
   "cell_type": "code",
   "execution_count": 105,
   "id": "b4a50966",
   "metadata": {},
   "outputs": [
    {
     "data": {
      "text/html": [
       "<div>\n",
       "<style scoped>\n",
       "    .dataframe tbody tr th:only-of-type {\n",
       "        vertical-align: middle;\n",
       "    }\n",
       "\n",
       "    .dataframe tbody tr th {\n",
       "        vertical-align: top;\n",
       "    }\n",
       "\n",
       "    .dataframe thead th {\n",
       "        text-align: right;\n",
       "    }\n",
       "</style>\n",
       "<table border=\"1\" class=\"dataframe\">\n",
       "  <thead>\n",
       "    <tr style=\"text-align: right;\">\n",
       "      <th></th>\n",
       "      <th>Regions</th>\n",
       "      <th>Year</th>\n",
       "      <th>Gamma</th>\n",
       "    </tr>\n",
       "  </thead>\n",
       "  <tbody>\n",
       "    <tr>\n",
       "      <th>0</th>\n",
       "      <td>Afghanistan</td>\n",
       "      <td>2020</td>\n",
       "      <td>166.667</td>\n",
       "    </tr>\n",
       "    <tr>\n",
       "      <th>1</th>\n",
       "      <td>Africa</td>\n",
       "      <td>2021</td>\n",
       "      <td>489.260</td>\n",
       "    </tr>\n",
       "    <tr>\n",
       "      <th>2</th>\n",
       "      <td>Albania</td>\n",
       "      <td>2020</td>\n",
       "      <td>24.482</td>\n",
       "    </tr>\n",
       "    <tr>\n",
       "      <th>3</th>\n",
       "      <td>Algeria</td>\n",
       "      <td>2020</td>\n",
       "      <td>485.450</td>\n",
       "    </tr>\n",
       "    <tr>\n",
       "      <th>4</th>\n",
       "      <td>American Samoa</td>\n",
       "      <td>2020</td>\n",
       "      <td>687.500</td>\n",
       "    </tr>\n",
       "  </tbody>\n",
       "</table>\n",
       "</div>"
      ],
      "text/plain": [
       "          Regions  Year    Gamma\n",
       "0     Afghanistan  2020  166.667\n",
       "1          Africa  2021  489.260\n",
       "2         Albania  2020   24.482\n",
       "3         Algeria  2020  485.450\n",
       "4  American Samoa  2020  687.500"
      ]
     },
     "execution_count": 105,
     "metadata": {},
     "output_type": "execute_result"
    }
   ],
   "source": [
    "idx = gamma_data.groupby('Country or region')['Year'].idxmax()\n",
    "gamma_data = gamma_data.loc[idx]\n",
    "gamma_data = gamma_data.rename(columns={'Country or region': 'Regions', 'Emissions intensity (gCO2 per kWh)': 'Gamma'})\n",
    "gamma_data.head()\n"
   ]
  },
  {
   "cell_type": "code",
   "execution_count": 114,
   "id": "914750ff",
   "metadata": {},
   "outputs": [],
   "source": [
    "from pandasql import sqldf"
   ]
  },
  {
   "cell_type": "code",
   "execution_count": 115,
   "id": "050efa36",
   "metadata": {},
   "outputs": [],
   "source": [
    "def data_parse(user_input,dataframe):\n",
    "    query = \"\"\n",
    "    if dataframe == \"gpus_dataset\":\n",
    "        query = \"SELECT G.tdp_watts FROM gpus_dataset AS G WHERE G.name LIKE '{}'\".format(user_input)\n",
    "    elif dataframe == \"gamma_data\":\n",
    "        query = \"SELECT G.Gamma FROM gamma_data AS G WHERE G.Regions LIKE '{}'\".format(user_input)\n",
    "    result = sqldf(query, env=None)\n",
    "    resultant = float(result.iloc[0][0])\n",
    "    return resultant"
   ]
  },
  {
   "cell_type": "code",
   "execution_count": 116,
   "id": "e9c9604e",
   "metadata": {},
   "outputs": [
    {
     "name": "stdout",
     "output_type": "stream",
     "text": [
      "30.0\n"
     ]
    }
   ],
   "source": [
    "result = data_parse(\"AGX Xavier\",\"gpus_dataset\")\n",
    "print(result)"
   ]
  },
  {
   "cell_type": "code",
   "execution_count": 117,
   "id": "dd6efaeb",
   "metadata": {},
   "outputs": [
    {
     "name": "stdout",
     "output_type": "stream",
     "text": [
      "489.26\n"
     ]
    }
   ],
   "source": [
    "result2 = data_parse(\"Africa\",\"gamma_data\")\n",
    "print(result2)"
   ]
  },
  {
   "cell_type": "code",
   "execution_count": null,
   "id": "b21c7587",
   "metadata": {},
   "outputs": [],
   "source": []
  }
 ],
 "metadata": {
  "kernelspec": {
   "display_name": "Python 3 (ipykernel)",
   "language": "python",
   "name": "python3"
  },
  "language_info": {
   "codemirror_mode": {
    "name": "ipython",
    "version": 3
   },
   "file_extension": ".py",
   "mimetype": "text/x-python",
   "name": "python",
   "nbconvert_exporter": "python",
   "pygments_lexer": "ipython3",
   "version": "3.9.16"
  }
 },
 "nbformat": 4,
 "nbformat_minor": 5
}
