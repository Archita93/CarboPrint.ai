{
 "cells": [
  {
   "cell_type": "code",
   "execution_count": 21,
   "id": "ae7fb739",
   "metadata": {},
   "outputs": [],
   "source": [
    "import pandas as pd"
   ]
  },
  {
   "cell_type": "code",
   "execution_count": 22,
   "id": "dd6c1aba",
   "metadata": {},
   "outputs": [],
   "source": [
    "gpus_dataset = pd.read_csv(\"Datasets/gpus.csv\")"
   ]
  },
  {
   "cell_type": "code",
   "execution_count": 23,
   "id": "7cffa4dc",
   "metadata": {},
   "outputs": [
    {
     "data": {
      "text/html": [
       "<div>\n",
       "<style scoped>\n",
       "    .dataframe tbody tr th:only-of-type {\n",
       "        vertical-align: middle;\n",
       "    }\n",
       "\n",
       "    .dataframe tbody tr th {\n",
       "        vertical-align: top;\n",
       "    }\n",
       "\n",
       "    .dataframe thead th {\n",
       "        text-align: right;\n",
       "    }\n",
       "</style>\n",
       "<table border=\"1\" class=\"dataframe\">\n",
       "  <thead>\n",
       "    <tr style=\"text-align: right;\">\n",
       "      <th></th>\n",
       "      <th>name</th>\n",
       "      <th>type</th>\n",
       "      <th>tdp_watts</th>\n",
       "      <th>TFLOPS32</th>\n",
       "      <th>TFLOPS16</th>\n",
       "      <th>GFLOPS32/W</th>\n",
       "      <th>GFLOPS16/W</th>\n",
       "      <th>memory</th>\n",
       "      <th>source</th>\n",
       "    </tr>\n",
       "  </thead>\n",
       "  <tbody>\n",
       "    <tr>\n",
       "      <th>0</th>\n",
       "      <td>A100 PCIe 40/80GB</td>\n",
       "      <td>gpu</td>\n",
       "      <td>250</td>\n",
       "      <td>NaN</td>\n",
       "      <td>312.00</td>\n",
       "      <td>NaN</td>\n",
       "      <td>NaN</td>\n",
       "      <td>40.0</td>\n",
       "      <td>https://www.nvidia.com/content/dam/en-zz/Solut...</td>\n",
       "    </tr>\n",
       "    <tr>\n",
       "      <th>1</th>\n",
       "      <td>A100 SXM4 80 GB</td>\n",
       "      <td>gpu</td>\n",
       "      <td>400</td>\n",
       "      <td>NaN</td>\n",
       "      <td>312.00</td>\n",
       "      <td>NaN</td>\n",
       "      <td>NaN</td>\n",
       "      <td>80.0</td>\n",
       "      <td>https://www.nvidia.com/content/dam/en-zz/Solut...</td>\n",
       "    </tr>\n",
       "    <tr>\n",
       "      <th>2</th>\n",
       "      <td>AGX Xavier</td>\n",
       "      <td>gpu</td>\n",
       "      <td>30</td>\n",
       "      <td>16.00</td>\n",
       "      <td>32.00</td>\n",
       "      <td>533.33</td>\n",
       "      <td>1066.67</td>\n",
       "      <td>NaN</td>\n",
       "      <td>https://elinux.org/Jetson_AGX_Xavier</td>\n",
       "    </tr>\n",
       "    <tr>\n",
       "      <th>3</th>\n",
       "      <td>AMD RX480</td>\n",
       "      <td>gpu</td>\n",
       "      <td>150</td>\n",
       "      <td>5.80</td>\n",
       "      <td>5.80</td>\n",
       "      <td>38.67</td>\n",
       "      <td>38.67</td>\n",
       "      <td>8.0</td>\n",
       "      <td>techpowerup.com</td>\n",
       "    </tr>\n",
       "    <tr>\n",
       "      <th>4</th>\n",
       "      <td>GTX 1080 Ti</td>\n",
       "      <td>gpu</td>\n",
       "      <td>250</td>\n",
       "      <td>11.34</td>\n",
       "      <td>0.17</td>\n",
       "      <td>45.36</td>\n",
       "      <td>0.68</td>\n",
       "      <td>11.0</td>\n",
       "      <td>techpowerup.com</td>\n",
       "    </tr>\n",
       "  </tbody>\n",
       "</table>\n",
       "</div>"
      ],
      "text/plain": [
       "                name type  tdp_watts  TFLOPS32   TFLOPS16  GFLOPS32/W  \\\n",
       "0  A100 PCIe 40/80GB  gpu        250       NaN     312.00         NaN   \n",
       "1    A100 SXM4 80 GB  gpu        400       NaN     312.00         NaN   \n",
       "2         AGX Xavier  gpu         30     16.00      32.00      533.33   \n",
       "3          AMD RX480  gpu        150      5.80       5.80       38.67   \n",
       "4        GTX 1080 Ti  gpu        250     11.34       0.17       45.36   \n",
       "\n",
       "  GFLOPS16/W  memory                                             source  \n",
       "0        NaN    40.0  https://www.nvidia.com/content/dam/en-zz/Solut...  \n",
       "1        NaN    80.0  https://www.nvidia.com/content/dam/en-zz/Solut...  \n",
       "2    1066.67     NaN               https://elinux.org/Jetson_AGX_Xavier  \n",
       "3      38.67     8.0                                    techpowerup.com  \n",
       "4       0.68    11.0                                    techpowerup.com  "
      ]
     },
     "execution_count": 23,
     "metadata": {},
     "output_type": "execute_result"
    }
   ],
   "source": [
    "gpus_dataset.head()"
   ]
  },
  {
   "cell_type": "code",
   "execution_count": 24,
   "id": "2852357a",
   "metadata": {},
   "outputs": [],
   "source": [
    "gpus_dataset = gpus_dataset[[\"name\",\"type\",\"tdp_watts\"]]\n",
    "gpu_dataset = gpus_dataset.sort_values(\"tdp_watts\").reset_index(drop=True)\n",
    "gpu_dataset.head()\n",
    "gpu_dataset.to_csv(\"gpu_modified.csv\",index=False)"
   ]
  },
  {
   "cell_type": "code",
   "execution_count": 25,
   "id": "11724c5a",
   "metadata": {},
   "outputs": [],
   "source": [
    "gamma_dataset = pd.read_csv(\"Datasets/gamma.csv\")\n",
    "gamma_datasets = gamma_dataset.drop('Country code', axis=1)"
   ]
  },
  {
   "cell_type": "code",
   "execution_count": 26,
   "id": "b4a50966",
   "metadata": {},
   "outputs": [],
   "source": [
    "idx = gamma_datasets.groupby('Country or region')['Year'].idxmax()\n",
    "gamma_data = gamma_datasets.loc[idx]\n",
    "gamma_data = gamma_data.rename(columns={'Country or region': 'Regions', 'Emissions intensity (gCO2 per kWh)': 'Gamma'})\n",
    "gamma_data = gamma_data.sort_values(\"Gamma\").reset_index(drop=True)\n",
    "gamma_data.head()\n",
    "gamma_data.to_csv(\"gamma_modified.csv\",index=False)"
   ]
  },
  {
   "cell_type": "code",
   "execution_count": 27,
   "id": "c13c163a",
   "metadata": {},
   "outputs": [],
   "source": [
    "pue_dataset = pd.read_csv(\"Datasets/pue.csv\")\n",
    "pue_dataset = pue_dataset.rename(columns={'Cloud Provider': 'Providers'})\n",
    "pue_dataset = pue_dataset.sort_values(\"PUE\").reset_index(drop=True)\n",
    "pue_dataset.head()\n",
    "pue_dataset.to_csv(\"pue_modified.csv\",index=False)"
   ]
  },
  {
   "cell_type": "code",
   "execution_count": 28,
   "id": "914750ff",
   "metadata": {},
   "outputs": [],
   "source": [
    "from pandasql import sqldf"
   ]
  },
  {
   "cell_type": "code",
   "execution_count": 30,
   "id": "050efa36",
   "metadata": {},
   "outputs": [],
   "source": [
    "def data_parse(user_input,dataframe):\n",
    "    query = \"\"\n",
    "    try: \n",
    "        if dataframe == \"gpu_dataset\":\n",
    "            query = \"SELECT G.tdp_watts FROM gpus_dataset AS G WHERE G.name LIKE '{}'\".format(user_input)\n",
    "        elif dataframe == \"gamma_data\":\n",
    "            query = \"SELECT G.Gamma FROM gamma_data AS G WHERE G.Regions LIKE '{}'\".format(user_input)\n",
    "        elif dataframe == \"pue_dataset\":\n",
    "            query = \"SELECT G.PUE FROM pue_dataset AS G WHERE G.Providers LIKE '{}'\".format(user_input)\n",
    "        result = sqldf(query, env=None)\n",
    "        resultant = float(result.iloc[0][0])\n",
    "        return resultant\n",
    "    except:\n",
    "        print(\"The particular input is not available in the dataset\")\n",
    "        return None"
   ]
  },
  {
   "cell_type": "code",
   "execution_count": 36,
   "id": "e9c9604e",
   "metadata": {},
   "outputs": [
    {
     "name": "stdout",
     "output_type": "stream",
     "text": [
      "<class 'float'>\n"
     ]
    }
   ],
   "source": [
    "result = data_parse(\"AGX Xavier\",\"gpu_dataset\")\n",
    "print(type(result))"
   ]
  },
  {
   "cell_type": "code",
   "execution_count": 37,
   "id": "dd6efaeb",
   "metadata": {},
   "outputs": [
    {
     "name": "stdout",
     "output_type": "stream",
     "text": [
      "489.26\n"
     ]
    }
   ],
   "source": [
    "result2 = data_parse(\"Africa\",\"gamma_data\")\n",
    "print(result2)"
   ]
  },
  {
   "cell_type": "code",
   "execution_count": 38,
   "id": "b21c7587",
   "metadata": {},
   "outputs": [
    {
     "name": "stdout",
     "output_type": "stream",
     "text": [
      "1.1\n"
     ]
    }
   ],
   "source": [
    "result2 = data_parse(\"Google Cloud\",\"pue_dataset\")\n",
    "print(result2)"
   ]
  },
  {
   "cell_type": "code",
   "execution_count": 61,
   "id": "44621745",
   "metadata": {},
   "outputs": [],
   "source": [
    "def calculate_carbon_emissions(num_of_chips,region, providers,grid_config, hours_trained, energy, num_processors, avg_power_per_processor,hardware_type):\n",
    "    \"\"\"\n",
    "    Calculate carbon emissions using the formula: CF = γ · PUE · (power consumption*hours trained)\n",
    "    energy : kwh\n",
    "    gamma : kg/kwh\n",
    "    CF: kg\n",
    "    Args:\n",
    "        PUE: Power Usage Effectiveness\n",
    "        E_CPU: Energy consumption of CPU (optional)\n",
    "        E_GPU: Energy consumption of GPU (optional)\n",
    "        E_RAM: Energy consumption of RAM (optional)\n",
    "        gamma: Gamma coefficient\n",
    "        hours_trained: Hours of training\n",
    "        num_processors: Number of processors\n",
    "        avg_power_per_processor: Average power per processor per hour\n",
    "    Returns:\n",
    "        The calculated carbon emissions in kg.\n",
    "    \"\"\"\n",
    "    total_energy = 0\n",
    "    \n",
    "    if energy:\n",
    "        total_energy = energy\n",
    "        \n",
    "    else:\n",
    "        val1 = data_parse(hardware_type,\"gpu_dataset\")\n",
    "        if val1:\n",
    "            total_energy = (hours_trained * val1 * num_of_chips)\n",
    "\n",
    "        else:\n",
    "            if num_processors and avg_power_per_processor:\n",
    "                total_energy = hours_trained * num_processors * avg_power_per_processor\n",
    "\n",
    "        total_energy = float(total_energy/1000) # kWh \n",
    "    val2 = data_parse(region,\"gamma_data\")\n",
    "    if val2:\n",
    "        gamma = val2\n",
    "    else:\n",
    "        gamma = 378.625  # g/Kwh\n",
    "    gamma = float(gamma/1000) # kg/Kwh\n",
    "    \n",
    "    val3 = data_parse(providers,\"pue_dataset\")\n",
    "    if val3:   # no units\n",
    "        PUE = val3\n",
    "    else:\n",
    "        PUE = 1\n",
    "    \n",
    "    carbon_emissions = gamma * PUE * (total_energy)\n",
    "    if grid_config and grid_config > 0:\n",
    "        return carbon_emissions*grid_config\n",
    "    else:\n",
    "        return float(carbon_emissions/1000)\n"
   ]
  },
  {
   "cell_type": "code",
   "execution_count": 62,
   "id": "1d196ebf",
   "metadata": {},
   "outputs": [
    {
     "name": "stdout",
     "output_type": "stream",
     "text": [
      "300.0\n",
      "1065600000.0\n",
      "1065600.0\n",
      "0.378625\n",
      "1.18\n",
      "476086.10399999993\n"
     ]
    }
   ],
   "source": [
    "result = calculate_carbon_emissions(10000,\"United States of America\",\"Microsoft Azure\",1,355.2,None,None,None,\"Tesla V100-SXM2-32GB\")\n",
    "print(result)"
   ]
  },
  {
   "cell_type": "code",
   "execution_count": null,
   "id": "40fc982b",
   "metadata": {},
   "outputs": [],
   "source": []
  }
 ],
 "metadata": {
  "kernelspec": {
   "display_name": "Python 3 (ipykernel)",
   "language": "python",
   "name": "python3"
  },
  "language_info": {
   "codemirror_mode": {
    "name": "ipython",
    "version": 3
   },
   "file_extension": ".py",
   "mimetype": "text/x-python",
   "name": "python",
   "nbconvert_exporter": "python",
   "pygments_lexer": "ipython3",
   "version": "3.9.16"
  }
 },
 "nbformat": 4,
 "nbformat_minor": 5
}
